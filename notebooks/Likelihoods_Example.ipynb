{
 "cells": [
  {
   "cell_type": "code",
   "execution_count": 1,
   "id": "286601bf",
   "metadata": {},
   "outputs": [],
   "source": [
    "import scipy \n",
    "import numpy as np\n",
    "import pandas as pd"
   ]
  },
  {
   "cell_type": "code",
   "execution_count": 2,
   "id": "25d2fb44",
   "metadata": {},
   "outputs": [],
   "source": [
    "from scipy.stats import binom\n",
    "from scipy.stats import norm\n",
    "from scipy.stats import rv_continuous\n",
    "\n",
    "import matplotlib.pyplot as plt\n"
   ]
  },
  {
   "cell_type": "code",
   "execution_count": 3,
   "id": "f852859d",
   "metadata": {},
   "outputs": [],
   "source": [
    "class pdf:\n",
    "    def __init__(self,fun,*par):\n",
    "            self.__par=par\n",
    "            self.__fun=fun\n",
    "    def __call__(self,fun,dataset):\n",
    "            p=1.\n",
    "            for d in dataset:\n",
    "                p *= self.__fun.pdf(d)\n",
    "            \n",
    "class integrated_pdf(pdf):\n",
    "    __par=[]\n",
    "    __fun=None\n",
    "    \n",
    "    def __init__(self,fun,*par):\n",
    "            self.__par=par\n",
    "            self.__fun=fun\n",
    "\n",
    "    def printf(self):\n",
    "        print(self.__fun,self.__par)\n",
    "        \n",
    "    def __call__(self,dataset):\n",
    "            p=self.__fun.pmf(dataset,self.__par)\n",
    "            return p"
   ]
  },
  {
   "cell_type": "markdown",
   "id": "29a5bbb7",
   "metadata": {},
   "source": [
    "## Example 0.0: build a binomial probability density function as an instance of an \"integrated pdf\" \n",
    "\n",
    "We build a binomial, although it is incorrectly labeled here \"pdf\":\n",
    "\n",
    "The binomial IS a probability function! We can label the discrete pdfs as \"integrated\" pdfs over a range, but they are conceptually two different things. \n",
    "\n",
    "In scipy.stats they are two different classes:\n",
    "\n"
   ]
  },
  {
   "cell_type": "code",
   "execution_count": 4,
   "id": "d22e017f",
   "metadata": {},
   "outputs": [],
   "source": [
    "        \n",
    "class binom_pdf(integrated_pdf):\n",
    "    name=\"binom_pdf\"\n",
    "    def __init__(self,*par):\n",
    "            self.__par=par\n",
    "            self.__fun=scipy.stats.binom #The functional part is an object of scipy, a binomial function\n",
    "\n",
    "    def printf(self):\n",
    "        print(self.__fun,self.__par)\n",
    "         \n",
    "    def __call__(self,dataset,verbose=False):\n",
    "            p=-1\n",
    "            if len(dataset)==1:\n",
    "                if(verbose):print(self.__par, dataset[0])\n",
    "                p=self.__fun.pmf(dataset[0],*self.__par)\n",
    "            else:\n",
    "                print(\"error! Dataset has size != 1\")\n",
    "            return p\n",
    "        "
   ]
  },
  {
   "cell_type": "code",
   "execution_count": 5,
   "id": "dd88b8b1",
   "metadata": {},
   "outputs": [
    {
     "name": "stdout",
     "output_type": "stream",
     "text": [
      "<scipy.stats._discrete_distns.binom_gen object at 0x7f0d98c2c580> (10, 0.5)\n",
      "0.24609375000000003\n"
     ]
    }
   ],
   "source": [
    "n=10\n",
    "p=0.5\n",
    "\n",
    "binom_dataset=[5]\n",
    "\n",
    "b1 = binom_pdf(n,p)\n",
    "b1.printf()\n",
    "print(b1(binom_dataset))"
   ]
  },
  {
   "cell_type": "markdown",
   "id": "ca681aa7",
   "metadata": {},
   "source": [
    "# We can have an example of the binomial distribution by scanning over n:\n",
    "\n",
    "We vary "
   ]
  },
  {
   "cell_type": "code",
   "execution_count": 6,
   "id": "fd13a670",
   "metadata": {},
   "outputs": [
    {
     "data": {
      "text/plain": [
       "<BarContainer object of 10 artists>"
      ]
     },
     "execution_count": 6,
     "metadata": {},
     "output_type": "execute_result"
    },
    {
     "data": {
      "image/png": "[encoded data removed]",
      "text/plain": [
       "<Figure size 432x288 with 1 Axes>"
      ]
     },
     "metadata": {
      "needs_background": "light"
     },
     "output_type": "display_data"
    },
    {
     "data": {
      "text/plain": [
       "<Figure size 720x720 with 0 Axes>"
      ]
     },
     "metadata": {},
     "output_type": "display_data"
    }
   ],
   "source": [
    "probs = [b1([ni]) for ni in range(0,10)]\n",
    "fig, ax = plt.subplots(1, 1)\n",
    "plt.figure(figsize=(10,10))\n",
    "ax.bar([ni for ni in range (0,10)],probs)\n"
   ]
  },
  {
   "cell_type": "markdown",
   "id": "ee97dc31",
   "metadata": {},
   "source": [
    "## Example 0.1: extended maximum likelihood"
   ]
  },
  {
   "cell_type": "code",
   "execution_count": 7,
   "id": "112d1738",
   "metadata": {},
   "outputs": [],
   "source": [
    "class extended_pdf(integrated_pdf,pdf):#nota bene: this class is still incomplete. \n",
    "                                       #This should take instances of pdf and integrated_pdf rather than classes. \n",
    "                                       #This is a temporary version for the scope of the exercise :) \n",
    "    __par=[]\n",
    "    __fun=()\n",
    "    __prob=0\n",
    "    __nlprob=0\n",
    "    def __init__(self,*fp):\n",
    "            self.__fp=dict(fp)\n",
    "    def printf(self):\n",
    "        print(\"functions \",self.__fp.keys(),\"\\n arguments: \",self.__fp.values())\n",
    "\n",
    "\n",
    "    def __call__(self,dataset):\n",
    "            p=-1\n",
    "            keylist=list(self.__fp.keys())\n",
    "            if len(dataset)>0:\n",
    "                f0=keylist[0]\n",
    "                p0=(self.__fp[f0])\n",
    "                #print(\"f0,\",f0,\"\\n p0\",p0, \" n data \", len(dataset))\n",
    "\n",
    "                p=f0.pmf(len(dataset),*p0)\n",
    "            pnorm=p\n",
    "            self.__nlprob=-2*np.log(pnorm)\n",
    "            pshape=1\n",
    "            if len(keylist)>1:\n",
    "                 for f in range(1,len(keylist)):\n",
    "                    pf=self.__fp[keylist[f]]\n",
    "                    #print(*pf)\n",
    "                    for d in range(0,len(dataset)):\n",
    "                        xd=dataset[d]\n",
    "                        #print(xd)\n",
    "                        ploc=keylist[f].pdf(xd,*pf)\n",
    "                        pshape=pshape*ploc\n",
    "                        self.__nlprob=self.__nlprob-np.log(ploc)            \n",
    "\n",
    "            \n",
    "            p=p*pshape\n",
    "            self.__prob=pnorm\n",
    "            if (len(dataset)<1):\n",
    "                print(\"error! Dataset has size < 1\")\n",
    "            \n",
    "            return p, pnorm, pshape, self.__prob, self.__nlprob"
   ]
  },
  {
   "cell_type": "markdown",
   "id": "b6e0c229",
   "metadata": {},
   "source": [
    "# We generate a gaussian with the \"rv_continuous\" function \"norm\":\n",
    "\n",
    "We take a gaussian with a mean $\\mu$ = 1 and sigma $\\sigma$ = 1\n",
    "\n",
    "https://docs.scipy.org/doc/scipy/reference/generated/scipy.stats.rv_continuous.html\n",
    "\n",
    "the \"RVS\" method gives us a certain number off randomly generated points according to the functions:\n",
    "\n",
    "We generate both according to the binomial AND according to the gaussian\n"
   ]
  },
  {
   "cell_type": "code",
   "execution_count": 8,
   "id": "78d18968",
   "metadata": {
    "scrolled": false
   },
   "outputs": [
    {
     "name": "stdout",
     "output_type": "stream",
     "text": [
      "510\n"
     ]
    },
    {
     "data": {
      "text/plain": [
       "(array([  3.,  18.,  25., 102., 148., 120.,  66.,  22.,   4.,   2.]),\n",
       " array([-2.4101181 , -1.69886989, -0.98762168, -0.27637347,  0.43487474,\n",
       "         1.14612295,  1.85737116,  2.56861937,  3.27986758,  3.9911158 ,\n",
       "         4.70236401]),\n",
       " <BarContainer object of 10 artists>)"
      ]
     },
     "execution_count": 8,
     "metadata": {},
     "output_type": "execute_result"
    },
    {
     "data": {
      "image/png": "[encoded data removed]",
      "text/plain": [
       "<Figure size 432x288 with 1 Axes>"
      ]
     },
     "metadata": {
      "needs_background": "light"
     },
     "output_type": "display_data"
    }
   ],
   "source": [
    "ngen=1000\n",
    "pgen=0.5\n",
    "mgen=1\n",
    "sgen=1\n",
    "ndata = binom.rvs(ngen,pgen)\n",
    "print(ndata)\n",
    "dataset=norm.rvs(1,1,ndata)\n",
    "fig, ax = plt.subplots(1, 1)\n",
    "ax.hist(dataset)"
   ]
  },
  {
   "cell_type": "code",
   "execution_count": 9,
   "id": "81a292c5",
   "metadata": {
    "scrolled": false
   },
   "outputs": [
    {
     "name": "stdout",
     "output_type": "stream",
     "text": [
      "functions  dict_keys([<scipy.stats._discrete_distns.binom_gen object at 0x7f0d98c2c580>, <scipy.stats._continuous_distns.norm_gen object at 0x7f0d99387be0>]) \n",
      " arguments:  dict_values([(1000, 0.5), (1, 1)])\n"
     ]
    },
    {
     "data": {
      "text/plain": [
       "(5.977e-320,\n",
       " 0.020656351649511996,\n",
       " 2.89368e-318,\n",
       " 0.020656351649511996,\n",
       " 738.918995243395)"
      ]
     },
     "execution_count": 9,
     "metadata": {},
     "output_type": "execute_result"
    }
   ],
   "source": [
    "nguess=ngen\n",
    "pguess=pgen\n",
    "mguess=mgen\n",
    "sguess=sgen\n",
    "\n",
    "e1=extended_pdf((binom,(nguess,pguess)),(norm,(mguess,sguess)))\n",
    "e1.printf()\n",
    "e1(dataset)"
   ]
  },
  {
   "cell_type": "markdown",
   "id": "ee26c17e",
   "metadata": {},
   "source": [
    "## Let's test a parameter scan:\n",
    "\n",
    "If we want to find the maximum of this likelihood:\n",
    "\n",
    "We can loop over the parameters in order to find the largest value - let us do it for two parameters right now:\n",
    "\n",
    "1) The binomial probability p\n",
    "2) The "
   ]
  },
  {
   "cell_type": "code",
   "execution_count": 10,
   "id": "879143c3",
   "metadata": {
    "scrolled": false
   },
   "outputs": [
    {
     "name": "stdout",
     "output_type": "stream",
     "text": [
      "510\n",
      "40 40\n"
     ]
    },
    {
     "data": {
      "image/png": "[encoded data removed]",
      "text/plain": [
       "<Figure size 720x720 with 1 Axes>"
      ]
     },
     "metadata": {
      "needs_background": "light"
     },
     "output_type": "display_data"
    }
   ],
   "source": [
    "\n",
    "x= np.arange(0.3,0.7,0.01)\n",
    "y= np.arange(0.5,1.5,0.025)\n",
    "z = []\n",
    "\n",
    "print(len(dataset))\n",
    "\n",
    "for m in y:\n",
    "    for p in x:\n",
    "        #let's loop to find p and m (assumimng a guess for n total and s total)\n",
    "        e1=extended_pdf((binom,(nguess,p)),(norm,(m,sguess)))\n",
    "        nllv=e1(dataset)[4]\n",
    "        z.append(nllv)\n",
    "        #print (nllv)\n",
    "\n",
    "print(len(x),len(y))\n",
    "X,Y=np.meshgrid(x, y)\n",
    "Z= np.array(z).reshape(len(y),len(x))\n",
    "\n",
    "\n",
    "plt.figure(figsize=(10,10))\n",
    "plt.pcolor(X, Y, Z)\n",
    "plt.show()"
   ]
  },
  {
   "cell_type": "code",
   "execution_count": 11,
   "id": "7bb2be12",
   "metadata": {},
   "outputs": [
    {
     "name": "stdout",
     "output_type": "stream",
     "text": [
      "the max is  991.2852777284893  at m =  1.0250000000000004  p =  0.49000000000000016\n"
     ]
    },
    {
     "data": {
      "image/png": "[encoded data removed]",
      "text/plain": [
       "<Figure size 432x288 with 1 Axes>"
      ]
     },
     "metadata": {
      "needs_background": "light"
     },
     "output_type": "display_data"
    }
   ],
   "source": [
    "plt.imshow(Z, interpolation='bilinear')\n",
    "\n",
    "ix,iy=np.unravel_index(Z.argmin(),Z.shape)\n",
    "\n",
    "print(\"the max is \",Z.max(), \" at m = \",y[iy],\" p = \",x[ix])"
   ]
  },
  {
   "cell_type": "code",
   "execution_count": null,
   "id": "1590e242",
   "metadata": {},
   "outputs": [],
   "source": []
  }
 ],
 "metadata": {
  "kernelspec": {
   "display_name": "Python 3 (ipykernel)",
   "language": "python",
   "name": "python3"
  },
  "language_info": {
   "codemirror_mode": {
    "name": "ipython",
    "version": 3
   },
   "file_extension": ".py",
   "mimetype": "text/x-python",
   "name": "python",
   "nbconvert_exporter": "python",
   "pygments_lexer": "ipython3",
   "version": "3.10.4"
  }
 },
 "nbformat": 4,
 "nbformat_minor": 5
}
